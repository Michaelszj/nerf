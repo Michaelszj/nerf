{
 "cells": [
  {
   "cell_type": "code",
   "execution_count": 1,
   "metadata": {},
   "outputs": [
    {
     "name": "stdout",
     "output_type": "stream",
     "text": [
      "[Taichi] version 1.6.0, llvm 15.0.1, commit f1c6fbbd, win, python 3.9.13\n",
      "[Taichi] Starting on arch=cuda\n"
     ]
    }
   ],
   "source": [
    "from gmath import *\n",
    "from process import *"
   ]
  },
  {
   "cell_type": "code",
   "execution_count": 2,
   "metadata": {},
   "outputs": [
    {
     "name": "stdout",
     "output_type": "stream",
     "text": [
      "Loading Lego/rgb/\n"
     ]
    },
    {
     "name": "stderr",
     "output_type": "stream",
     "text": [
      " 25%|██▌       | 100/400 [00:04<00:14, 20.54it/s]\n"
     ]
    },
    {
     "name": "stdout",
     "output_type": "stream",
     "text": [
      "Loading Lego/pose/\n"
     ]
    },
    {
     "name": "stderr",
     "output_type": "stream",
     "text": [
      " 25%|██▌       | 100/400 [00:00<00:00, 4166.39it/s]\n"
     ]
    }
   ],
   "source": [
    "pixels = load_data()\n",
    "c2w = load_mat()\n",
    "rays = ti.field(ti.f32, shape=(len(pixels), pixels[0].shape[0], pixels[0].shape[1], 3))\n",
    "origins = ti.field(ti.f32, shape=(len(pixels), 3))\n",
    "print(len(pixels),c2w.shape,rays.shape,origins.shape)"
   ]
  },
  {
   "cell_type": "code",
   "execution_count": 3,
   "metadata": {},
   "outputs": [
    {
     "ename": "TaichiCompilationError",
     "evalue": "\nFile \"g:\\Homework\\nerf\\process.py\", line 81, in calRays:\n    origins[index] = mul(vec3(0.0, 0.0, 0.0), c2w[index])\n                                              ^^^^^^^^^^\nTraceback (most recent call last):\n  File \"C:\\Users\\Tingyang\\AppData\\Roaming\\Python\\Python39\\site-packages\\taichi\\lang\\ast\\ast_transformer_utils.py\", line 27, in __call__\n    return method(ctx, node)\n  File \"C:\\Users\\Tingyang\\AppData\\Roaming\\Python\\Python39\\site-packages\\taichi\\lang\\ast\\ast_transformer.py\", line 233, in build_Subscript\n    node.ptr = impl.subscript(ctx.ast_builder, node.value.ptr, *node.slice.ptr)\n  File \"C:\\Users\\Tingyang\\AppData\\Roaming\\Python\\Python39\\site-packages\\taichi\\lang\\util.py\", line 312, in wrapped\n    return func(*args, **kwargs)\n  File \"C:\\Users\\Tingyang\\AppData\\Roaming\\Python\\Python39\\site-packages\\taichi\\lang\\impl.py\", line 194, in subscript\n    return value.__getitem__(_indices)\nAttributeError: 'NoneType' object has no attribute '__getitem__'\n",
     "output_type": "error",
     "traceback": [
      "\u001b[1;31m---------------------------------------------------------------------------\u001b[0m",
      "\u001b[1;31mTaichiCompilationError\u001b[0m                    Traceback (most recent call last)",
      "\u001b[1;32m~\\AppData\\Local\\Temp\\ipykernel_11104\\2907508313.py\u001b[0m in \u001b[0;36m<module>\u001b[1;34m\u001b[0m\n\u001b[1;32m----> 1\u001b[1;33m \u001b[0mcalRays\u001b[0m\u001b[1;33m(\u001b[0m\u001b[1;36m0\u001b[0m\u001b[1;33m)\u001b[0m\u001b[1;33m\u001b[0m\u001b[1;33m\u001b[0m\u001b[0m\n\u001b[0m",
      "\u001b[1;32m~\\AppData\\Roaming\\Python\\Python39\\site-packages\\taichi\\lang\\kernel_impl.py\u001b[0m in \u001b[0;36mwrapped\u001b[1;34m(*args, **kwargs)\u001b[0m\n\u001b[0;32m    974\u001b[0m                 \u001b[1;32mreturn\u001b[0m \u001b[0mprimal\u001b[0m\u001b[1;33m(\u001b[0m\u001b[1;33m*\u001b[0m\u001b[0margs\u001b[0m\u001b[1;33m,\u001b[0m \u001b[1;33m**\u001b[0m\u001b[0mkwargs\u001b[0m\u001b[1;33m)\u001b[0m\u001b[1;33m\u001b[0m\u001b[1;33m\u001b[0m\u001b[0m\n\u001b[0;32m    975\u001b[0m             \u001b[1;32mexcept\u001b[0m \u001b[1;33m(\u001b[0m\u001b[0mTaichiCompilationError\u001b[0m\u001b[1;33m,\u001b[0m \u001b[0mTaichiRuntimeError\u001b[0m\u001b[1;33m)\u001b[0m \u001b[1;32mas\u001b[0m \u001b[0me\u001b[0m\u001b[1;33m:\u001b[0m\u001b[1;33m\u001b[0m\u001b[1;33m\u001b[0m\u001b[0m\n\u001b[1;32m--> 976\u001b[1;33m                 \u001b[1;32mraise\u001b[0m \u001b[0mtype\u001b[0m\u001b[1;33m(\u001b[0m\u001b[0me\u001b[0m\u001b[1;33m)\u001b[0m\u001b[1;33m(\u001b[0m\u001b[1;34m\"\\n\"\u001b[0m \u001b[1;33m+\u001b[0m \u001b[0mstr\u001b[0m\u001b[1;33m(\u001b[0m\u001b[0me\u001b[0m\u001b[1;33m)\u001b[0m\u001b[1;33m)\u001b[0m \u001b[1;32mfrom\u001b[0m \u001b[1;32mNone\u001b[0m\u001b[1;33m\u001b[0m\u001b[1;33m\u001b[0m\u001b[0m\n\u001b[0m\u001b[0;32m    977\u001b[0m \u001b[1;33m\u001b[0m\u001b[0m\n\u001b[0;32m    978\u001b[0m         \u001b[0mwrapped\u001b[0m\u001b[1;33m.\u001b[0m\u001b[0mgrad\u001b[0m \u001b[1;33m=\u001b[0m \u001b[0madjoint\u001b[0m\u001b[1;33m\u001b[0m\u001b[1;33m\u001b[0m\u001b[0m\n",
      "\u001b[1;31mTaichiCompilationError\u001b[0m: \nFile \"g:\\Homework\\nerf\\process.py\", line 81, in calRays:\n    origins[index] = mul(vec3(0.0, 0.0, 0.0), c2w[index])\n                                              ^^^^^^^^^^\nTraceback (most recent call last):\n  File \"C:\\Users\\Tingyang\\AppData\\Roaming\\Python\\Python39\\site-packages\\taichi\\lang\\ast\\ast_transformer_utils.py\", line 27, in __call__\n    return method(ctx, node)\n  File \"C:\\Users\\Tingyang\\AppData\\Roaming\\Python\\Python39\\site-packages\\taichi\\lang\\ast\\ast_transformer.py\", line 233, in build_Subscript\n    node.ptr = impl.subscript(ctx.ast_builder, node.value.ptr, *node.slice.ptr)\n  File \"C:\\Users\\Tingyang\\AppData\\Roaming\\Python\\Python39\\site-packages\\taichi\\lang\\util.py\", line 312, in wrapped\n    return func(*args, **kwargs)\n  File \"C:\\Users\\Tingyang\\AppData\\Roaming\\Python\\Python39\\site-packages\\taichi\\lang\\impl.py\", line 194, in subscript\n    return value.__getitem__(_indices)\nAttributeError: 'NoneType' object has no attribute '__getitem__'\n"
     ]
    }
   ],
   "source": [
    "calRays(0)"
   ]
  },
  {
   "cell_type": "code",
   "execution_count": 4,
   "metadata": {},
   "outputs": [],
   "source": [
    "gui = ti.GUI('window', (800,800), fast_gui=False)\n",
    "while gui.running:\n",
    "    gui.set_image(pixels[0])\n",
    "    gui.show()"
   ]
  }
 ],
 "metadata": {
  "kernelspec": {
   "display_name": "base",
   "language": "python",
   "name": "python3"
  },
  "language_info": {
   "codemirror_mode": {
    "name": "ipython",
    "version": 3
   },
   "file_extension": ".py",
   "mimetype": "text/x-python",
   "name": "python",
   "nbconvert_exporter": "python",
   "pygments_lexer": "ipython3",
   "version": "3.9.13"
  },
  "orig_nbformat": 4
 },
 "nbformat": 4,
 "nbformat_minor": 2
}
